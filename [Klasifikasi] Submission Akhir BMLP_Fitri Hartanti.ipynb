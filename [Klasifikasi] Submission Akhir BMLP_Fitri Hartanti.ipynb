{
  "cells": [
    {
      "cell_type": "markdown",
      "metadata": {
        "id": "fKADPWcFKlj3"
      },
      "source": [
        "# **1. Import Library**"
      ]
    },
    {
      "cell_type": "markdown",
      "metadata": {
        "id": "LgA3ERnVn84N"
      },
      "source": [
        "Pada tahap ini, Anda perlu mengimpor beberapa pustaka (library) Python yang dibutuhkan untuk analisis data dan pembangunan model machine learning."
      ]
    },
    {
      "cell_type": "code",
      "execution_count": 1,
      "metadata": {
        "id": "BlmvjLY9M4Yj"
      },
      "outputs": [],
      "source": [
        "import pandas as pd\n",
        "import numpy as np  "
      ]
    },
    {
      "cell_type": "markdown",
      "metadata": {
        "id": "f3YIEnAFKrKL"
      },
      "source": [
        "# **2. Memuat Dataset dari Hasil Clustering**"
      ]
    },
    {
      "cell_type": "markdown",
      "metadata": {
        "id": "Ey3ItwTen_7E"
      },
      "source": [
        "Memuat dataset hasil clustering dari file CSV ke dalam variabel DataFrame.\n",
        "\n",
        "Dataset yang dimuat adalah hasil preprocessing untuk mempermudah proses klasifikasi."
      ]
    },
    {
      "cell_type": "code",
      "execution_count": 2,
      "metadata": {
        "id": "GHCGNTyrM5fS"
      },
      "outputs": [],
      "source": [
        "df = pd.read_csv('insurance_clustered.csv')"
      ]
    },
    {
      "cell_type": "markdown",
      "metadata": {
        "id": "KkPem5eWL2UP"
      },
      "source": [
        "# **3. Data Splitting**"
      ]
    },
    {
      "cell_type": "markdown",
      "metadata": {
        "id": "YYj1rl_JNI9Y"
      },
      "source": [
        "Tahap Data Splitting bertujuan untuk memisahkan dataset menjadi dua bagian: data latih (training set) dan data uji (test set)."
      ]
    },
    {
      "cell_type": "code",
      "execution_count": 3,
      "metadata": {
        "id": "OubAW-7ONKVj"
      },
      "outputs": [],
      "source": [
        "from sklearn.model_selection import train_test_split, cross_val_score\n",
        "\n",
        "X = df.drop('Cluster', axis=1)\n",
        "y = df['Cluster']\n",
        "\n",
        "# Data Splitting\n",
        "X_train, X_test, y_train, y_test = train_test_split(X, y, test_size=0.2, random_state=42)"
      ]
    },
    {
      "cell_type": "markdown",
      "metadata": {
        "id": "IVPbB03CMhTT"
      },
      "source": [
        "# **4. Membangun Model Klasifikasi**\n"
      ]
    },
    {
      "cell_type": "markdown",
      "metadata": {
        "id": "Ned1pL9zMmBK"
      },
      "source": [
        "## **a. Membangun Model Klasifikasi**"
      ]
    },
    {
      "cell_type": "markdown",
      "metadata": {
        "id": "WAWzPOE4Nkti"
      },
      "source": [
        "Setelah memilih algoritma klasifikasi yang sesuai, langkah selanjutnya adalah melatih model menggunakan data latih.\n",
        "\n",
        "Berikut adalah rekomendasi tahapannya.\n",
        "1. Pilih algoritma klasifikasi yang sesuai, seperti Logistic Regression, Decision Tree, Random Forest, atau K-Nearest Neighbors (KNN).\n",
        "2. Latih model menggunakan data latih."
      ]
    },
    {
      "cell_type": "code",
      "execution_count": 4,
      "metadata": {
        "id": "4JYxBe87NLDk"
      },
      "outputs": [],
      "source": [
        "from sklearn.metrics import accuracy_score, precision_score, recall_score, f1_score\n",
        "from sklearn.ensemble import (\n",
        "    RandomForestClassifier, ExtraTreesClassifier, GradientBoostingClassifier,\n",
        "    HistGradientBoostingClassifier, AdaBoostClassifier\n",
        ")\n",
        "from sklearn.linear_model import (\n",
        "    LogisticRegression, LogisticRegressionCV, RidgeClassifier\n",
        ")\n",
        "from sklearn.naive_bayes import GaussianNB, BernoulliNB\n",
        "from sklearn.neighbors import KNeighborsClassifier\n",
        "from sklearn.svm import SVC\n",
        "from sklearn.tree import DecisionTreeClassifier\n",
        "from xgboost import XGBClassifier\n",
        "from catboost import CatBoostClassifier\n",
        "from lightgbm import LGBMClassifier\n",
        "\n",
        "# Fungsi evaluasi model\n",
        "def all_model(list_model, X_train, X_test, y_train, y_test):\n",
        "    result = []\n",
        "    for model_name, model in list_model.items():\n",
        "        model.fit(X_train, y_train)\n",
        "        y_pred = model.predict(X_test)\n",
        "        \n",
        "        accuracy = accuracy_score(y_test, y_pred)\n",
        "        precision = precision_score(y_test, y_pred, average='weighted')\n",
        "        recall = recall_score(y_test, y_pred, average='weighted')\n",
        "        f1 = f1_score(y_test, y_pred, average='weighted')\n",
        "\n",
        "        hasil = {\n",
        "            'Model': model_name,\n",
        "            'Accuracy': accuracy,\n",
        "            'F1 Score': f1,\n",
        "            'Precision': precision,\n",
        "            'Recall': recall\n",
        "        }\n",
        "\n",
        "        result.append(hasil)\n",
        "    \n",
        "    return pd.DataFrame(result).sort_values(by=\"Accuracy\", ascending=False)\n",
        "\n",
        "# Daftar model yang dikelompokkan berdasarkan jenisnya\n",
        "list_of_model = {\n",
        "    # Model Linear\n",
        "    \"Logistic Regression\": LogisticRegression(max_iter=1000),\n",
        "    \"Logistic Regression CV\": LogisticRegressionCV(max_iter=10000),\n",
        "    \"Ridge Classifier\": RidgeClassifier(),\n",
        "    \n",
        "    # Model Klasik\n",
        "    \"Support Vector Machine\": SVC(),\n",
        "    \"K-Nearest Neighbors\": KNeighborsClassifier(n_neighbors=5),\n",
        "    \"Naive Bayes Gaussian\": GaussianNB(),\n",
        "    \"Naive Bayes Bernoulli\": BernoulliNB(),\n",
        "\n",
        "    # Model Tree-Based\n",
        "    \"Decision Tree\": DecisionTreeClassifier(random_state=42),\n",
        "    \"Random Forest\": RandomForestClassifier(n_estimators=100, random_state=42),\n",
        "    \"Extra Trees\": ExtraTreesClassifier(n_estimators=100, random_state=42),\n",
        "\n",
        "    # Model Boosting\n",
        "    \"Gradient Boosting\": GradientBoostingClassifier(n_estimators=100, random_state=42),\n",
        "    \"Hist Gradient Boosting\": HistGradientBoostingClassifier(random_state=42),\n",
        "    \"AdaBoost\": AdaBoostClassifier(n_estimators=100, random_state=42),\n",
        "    \"XGBoost\": XGBClassifier(random_state=42),\n",
        "    \"CatBoost\": CatBoostClassifier(random_state=42, logging_level='Silent')\n",
        "}"
      ]
    },
    {
      "cell_type": "markdown",
      "metadata": {
        "id": "seYoHNY3XU1y"
      },
      "source": [
        "Algoritma Modelling:  \n",
        "\n",
        "1. **Import Library** \n",
        "   - Mengimpor berbagai model klasifikasi seperti **Logistic Regression, Decision Tree, Random Forest, SVM, KNN, Naïve Bayes, serta model boosting (XGBoost, CatBoost, Gradient Boosting, AdaBoost, LightGBM, dll.)**.  \n",
        "\n",
        "2. **Fungsi Evaluasi (`all_model`)**  \n",
        "   - Menerima daftar model dan dataset (X_train, X_test, y_train, y_test).  \n",
        "   - Melatih setiap model pada `X_train` dan `y_train`, lalu membuat prediksi pada `X_test`.  \n",
        "   - Menghitung metrik evaluasi: **Accuracy, Precision, Recall, dan F1-Score**.  \n",
        "   - Mengembalikan hasil evaluasi dalam bentuk DataFrame yang diurutkan berdasarkan **akurasi tertinggi**.  \n",
        "\n",
        "3. **Daftar Model (`list_of_model`)**  \n",
        "   - Mengelompokkan berbagai model berdasarkan jenisnya: **linear models (Logistic Regression, Ridge), non-linear models (SVM, KNN, Naïve Bayes), tree-based models (Decision Tree, Random Forest, Extra Trees), dan boosting models (XGBoost, CatBoost, AdaBoost, dll.)**.  "
      ]
    },
    {
      "cell_type": "markdown",
      "metadata": {
        "id": "ergzChZFEL-O"
      },
      "source": [
        "## **b. Evaluasi Model Klasifikasi**"
      ]
    },
    {
      "cell_type": "markdown",
      "metadata": {
        "id": "zOm68u-7NpLT"
      },
      "source": [
        "Berikut adalah **rekomendasi** tahapannya.\n",
        "1. Lakukan prediksi menggunakan data uji.\n",
        "2. Hitung metrik evaluasi seperti Accuracy dan F1-Score (Opsional: Precision dan Recall).\n",
        "3. Buat confusion matrix untuk melihat detail prediksi benar dan salah."
      ]
    },
    {
      "cell_type": "code",
      "execution_count": 5,
      "metadata": {
        "id": "tMq4QAssNLip"
      },
      "outputs": [
        {
          "name": "stderr",
          "output_type": "stream",
          "text": [
            "c:\\Users\\acer\\AppData\\Local\\Programs\\Python\\Python311\\Lib\\site-packages\\sklearn\\linear_model\\_logistic.py:465: ConvergenceWarning: lbfgs failed to converge (status=1):\n",
            "STOP: TOTAL NO. of ITERATIONS REACHED LIMIT.\n",
            "\n",
            "Increase the number of iterations (max_iter) or scale the data as shown in:\n",
            "    https://scikit-learn.org/stable/modules/preprocessing.html\n",
            "Please also refer to the documentation for alternative solver options:\n",
            "    https://scikit-learn.org/stable/modules/linear_model.html#logistic-regression\n",
            "  n_iter_i = _check_optimize_result(\n"
          ]
        },
        {
          "data": {
            "text/html": [
              "<div>\n",
              "<style scoped>\n",
              "    .dataframe tbody tr th:only-of-type {\n",
              "        vertical-align: middle;\n",
              "    }\n",
              "\n",
              "    .dataframe tbody tr th {\n",
              "        vertical-align: top;\n",
              "    }\n",
              "\n",
              "    .dataframe thead th {\n",
              "        text-align: right;\n",
              "    }\n",
              "</style>\n",
              "<table border=\"1\" class=\"dataframe\">\n",
              "  <thead>\n",
              "    <tr style=\"text-align: right;\">\n",
              "      <th></th>\n",
              "      <th>Model</th>\n",
              "      <th>Accuracy</th>\n",
              "      <th>F1 Score</th>\n",
              "      <th>Precision</th>\n",
              "      <th>Recall</th>\n",
              "    </tr>\n",
              "  </thead>\n",
              "  <tbody>\n",
              "    <tr>\n",
              "      <th>0</th>\n",
              "      <td>Logistic Regression</td>\n",
              "      <td>1.000000</td>\n",
              "      <td>1.000000</td>\n",
              "      <td>1.000000</td>\n",
              "      <td>1.000000</td>\n",
              "    </tr>\n",
              "    <tr>\n",
              "      <th>1</th>\n",
              "      <td>Logistic Regression CV</td>\n",
              "      <td>1.000000</td>\n",
              "      <td>1.000000</td>\n",
              "      <td>1.000000</td>\n",
              "      <td>1.000000</td>\n",
              "    </tr>\n",
              "    <tr>\n",
              "      <th>3</th>\n",
              "      <td>Support Vector Machine</td>\n",
              "      <td>1.000000</td>\n",
              "      <td>1.000000</td>\n",
              "      <td>1.000000</td>\n",
              "      <td>1.000000</td>\n",
              "    </tr>\n",
              "    <tr>\n",
              "      <th>4</th>\n",
              "      <td>K-Nearest Neighbors</td>\n",
              "      <td>1.000000</td>\n",
              "      <td>1.000000</td>\n",
              "      <td>1.000000</td>\n",
              "      <td>1.000000</td>\n",
              "    </tr>\n",
              "    <tr>\n",
              "      <th>7</th>\n",
              "      <td>Decision Tree</td>\n",
              "      <td>1.000000</td>\n",
              "      <td>1.000000</td>\n",
              "      <td>1.000000</td>\n",
              "      <td>1.000000</td>\n",
              "    </tr>\n",
              "    <tr>\n",
              "      <th>8</th>\n",
              "      <td>Random Forest</td>\n",
              "      <td>1.000000</td>\n",
              "      <td>1.000000</td>\n",
              "      <td>1.000000</td>\n",
              "      <td>1.000000</td>\n",
              "    </tr>\n",
              "    <tr>\n",
              "      <th>10</th>\n",
              "      <td>Gradient Boosting</td>\n",
              "      <td>1.000000</td>\n",
              "      <td>1.000000</td>\n",
              "      <td>1.000000</td>\n",
              "      <td>1.000000</td>\n",
              "    </tr>\n",
              "    <tr>\n",
              "      <th>11</th>\n",
              "      <td>Hist Gradient Boosting</td>\n",
              "      <td>1.000000</td>\n",
              "      <td>1.000000</td>\n",
              "      <td>1.000000</td>\n",
              "      <td>1.000000</td>\n",
              "    </tr>\n",
              "    <tr>\n",
              "      <th>12</th>\n",
              "      <td>AdaBoost</td>\n",
              "      <td>1.000000</td>\n",
              "      <td>1.000000</td>\n",
              "      <td>1.000000</td>\n",
              "      <td>1.000000</td>\n",
              "    </tr>\n",
              "    <tr>\n",
              "      <th>13</th>\n",
              "      <td>XGBoost</td>\n",
              "      <td>1.000000</td>\n",
              "      <td>1.000000</td>\n",
              "      <td>1.000000</td>\n",
              "      <td>1.000000</td>\n",
              "    </tr>\n",
              "    <tr>\n",
              "      <th>14</th>\n",
              "      <td>CatBoost</td>\n",
              "      <td>1.000000</td>\n",
              "      <td>1.000000</td>\n",
              "      <td>1.000000</td>\n",
              "      <td>1.000000</td>\n",
              "    </tr>\n",
              "    <tr>\n",
              "      <th>9</th>\n",
              "      <td>Extra Trees</td>\n",
              "      <td>0.992537</td>\n",
              "      <td>0.992537</td>\n",
              "      <td>0.992537</td>\n",
              "      <td>0.992537</td>\n",
              "    </tr>\n",
              "    <tr>\n",
              "      <th>2</th>\n",
              "      <td>Ridge Classifier</td>\n",
              "      <td>0.977612</td>\n",
              "      <td>0.977094</td>\n",
              "      <td>0.978220</td>\n",
              "      <td>0.977612</td>\n",
              "    </tr>\n",
              "    <tr>\n",
              "      <th>5</th>\n",
              "      <td>Naive Bayes Gaussian</td>\n",
              "      <td>0.958955</td>\n",
              "      <td>0.960346</td>\n",
              "      <td>0.966010</td>\n",
              "      <td>0.958955</td>\n",
              "    </tr>\n",
              "    <tr>\n",
              "      <th>6</th>\n",
              "      <td>Naive Bayes Bernoulli</td>\n",
              "      <td>0.921642</td>\n",
              "      <td>0.923420</td>\n",
              "      <td>0.926857</td>\n",
              "      <td>0.921642</td>\n",
              "    </tr>\n",
              "  </tbody>\n",
              "</table>\n",
              "</div>"
            ],
            "text/plain": [
              "                     Model  Accuracy  F1 Score  Precision    Recall\n",
              "0      Logistic Regression  1.000000  1.000000   1.000000  1.000000\n",
              "1   Logistic Regression CV  1.000000  1.000000   1.000000  1.000000\n",
              "3   Support Vector Machine  1.000000  1.000000   1.000000  1.000000\n",
              "4      K-Nearest Neighbors  1.000000  1.000000   1.000000  1.000000\n",
              "7            Decision Tree  1.000000  1.000000   1.000000  1.000000\n",
              "8            Random Forest  1.000000  1.000000   1.000000  1.000000\n",
              "10       Gradient Boosting  1.000000  1.000000   1.000000  1.000000\n",
              "11  Hist Gradient Boosting  1.000000  1.000000   1.000000  1.000000\n",
              "12                AdaBoost  1.000000  1.000000   1.000000  1.000000\n",
              "13                 XGBoost  1.000000  1.000000   1.000000  1.000000\n",
              "14                CatBoost  1.000000  1.000000   1.000000  1.000000\n",
              "9              Extra Trees  0.992537  0.992537   0.992537  0.992537\n",
              "2         Ridge Classifier  0.977612  0.977094   0.978220  0.977612\n",
              "5     Naive Bayes Gaussian  0.958955  0.960346   0.966010  0.958955\n",
              "6    Naive Bayes Bernoulli  0.921642  0.923420   0.926857  0.921642"
            ]
          },
          "execution_count": 5,
          "metadata": {},
          "output_type": "execute_result"
        }
      ],
      "source": [
        "results = all_model(list_of_model, X_train, X_test, y_train, y_test)\n",
        "results"
      ]
    },
    {
      "cell_type": "markdown",
      "metadata": {
        "id": "H4_9OwrsXZlz"
      },
      "source": [
        "Sebagian besar model, seperti Logistic Regression, SVM, K-Nearest Neighbors, Decision Tree, Random Forest, XGBoost, CatBoost, dan lainnya, berhasil mencapai akurasi, F1 Score, precision, dan recall sebesar 1.0 (100%). Ini menunjukkan bahwa model-model tersebut mampu mengklasifikasikan data dengan sempurna, setidaknya pada data latih atau validasi yang digunakan.\n",
        "\n",
        "Model dengan performa sedikit lebih rendah adalah:\n",
        "- Extra Trees: Akurasi dan metrik lainnya sekitar 99.25%, yang masih sangat baik.\n",
        "- Ridge Classifier: Akurasi sekitar 97.76%.\n",
        "- Naive Bayes Gaussian: Akurasi sekitar 95.90%.\n",
        "- Naive Bayes Bernoulli: Performa paling rendah, dengan akurasi 92.16%.\n",
        "\n"
      ]
    },
    {
      "cell_type": "markdown",
      "metadata": {
        "id": "ph9yIYDXEPuB"
      },
      "source": [
        "## **c. Tuning Model Klasifikasi (Optional)**"
      ]
    },
    {
      "cell_type": "markdown",
      "metadata": {
        "id": "-Bikx3LINv5e"
      },
      "source": [
        "Berdasarkan hasil performa sebagian besar model memiliki akurasi 100%, maka tidak dilakukan tuning model klasifikasi."
      ]
    },
    {
      "cell_type": "markdown",
      "metadata": {
        "id": "hE7pqlEPEYzI"
      },
      "source": [
        "## **d. Evaluasi Model Klasifikasi setelah Tuning (Optional)**"
      ]
    },
    {
      "cell_type": "markdown",
      "metadata": {
        "id": "feaPESoeN0zz"
      },
      "source": [
        "Berikut adalah rekomendasi tahapannya.\n",
        "1. Gunakan model dengan hyperparameter terbaik.\n",
        "2. Hitung ulang metrik evaluasi untuk melihat apakah ada peningkatan performa."
      ]
    },
    {
      "cell_type": "code",
      "execution_count": 6,
      "metadata": {
        "id": "HTXZRvEeNMb1"
      },
      "outputs": [],
      "source": [
        "#Type your code here"
      ]
    },
    {
      "cell_type": "markdown",
      "metadata": {
        "id": "ZRsOdm4uEgAW"
      },
      "source": [
        "## **e. Analisis Hasil Evaluasi Model Klasifikasi**"
      ]
    },
    {
      "cell_type": "markdown",
      "metadata": {
        "id": "Hm3BhSi6N4_l"
      },
      "source": [
        "## 🔍 **Analisis Hasil Klasifikasi**\n",
        "\n",
        "### 1. **Perbandingan Kinerja Model**\n",
        "- Sebagian besar model (Logistic Regression, SVM, Decision Tree, Random Forest, XGBoost, dst.) menunjukkan **performansi sempurna** dengan akurasi, F1 Score, precision, dan recall = 1.000.\n",
        "- *Extra Trees* dan *Ridge Classifier* tetap sangat baik (99.25% dan 97.76%).\n",
        "- *Naive Bayes Gaussian* dan *Bernoulli* menunjukkan performa terendah, dengan akurasi di bawah 96%.\n",
        "\n",
        "### 2. **Kelemahan Model**\n",
        "- Model yang terlalu sempurna mungkin **overfitting**, perlu diuji ulang pada data baru.\n",
        "\n",
        "### 3. **Rekomendasi Lanjutan**\n",
        "- Gunakan model sederhana dan akurat seperti *Logistic Regression* atau *Decision Tree* untuk interpretabilitas.\n",
        "- Lakukan **validasi silang** dan uji pada data independen.\n",
        "- Tinjau **feature importance** untuk insight lebih lanjut."
      ]
    }
  ],
  "metadata": {
    "colab": {
      "provenance": []
    },
    "kernelspec": {
      "display_name": "Python 3",
      "name": "python3"
    },
    "language_info": {
      "codemirror_mode": {
        "name": "ipython",
        "version": 3
      },
      "file_extension": ".py",
      "mimetype": "text/x-python",
      "name": "python",
      "nbconvert_exporter": "python",
      "pygments_lexer": "ipython3",
      "version": "3.11.4"
    }
  },
  "nbformat": 4,
  "nbformat_minor": 0
}
